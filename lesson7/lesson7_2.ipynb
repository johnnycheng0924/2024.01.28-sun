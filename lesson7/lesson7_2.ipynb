{
 "cells": [
  {
   "cell_type": "code",
   "execution_count": 1,
   "metadata": {},
   "outputs": [
    {
     "data": {
      "text/plain": [
       "5050"
      ]
     },
     "execution_count": 1,
     "metadata": {},
     "output_type": "execute_result"
    }
   ],
   "source": [
    "#while,做明確知道執行的次數\n",
    "total=0\n",
    "i=1\n",
    "while(i<101):\n",
    "    total+=i\n",
    "    i+=1\n",
    "total    "
   ]
  },
  {
   "cell_type": "code",
   "execution_count": 2,
   "metadata": {},
   "outputs": [
    {
     "name": "stdout",
     "output_type": "stream",
     "text": [
      "請輸入第1月份的存款:15000\n",
      "請輸入第2月份的存款:15000\n",
      "恭喜!已經存夠了，存了2個月份,共存了30000元\n"
     ]
    }
   ],
   "source": [
    "#while,做不知道執行的次數\n",
    "#小明想要存錢買一輛機車,機車每輛30000元，他將每月存的錢輸入，當存款足夠買機車時，就顯示提示訊息告知。\n",
    "import pyinputplus as pyip\n",
    "\n",
    "deposit:int=0\n",
    "count:int=0\n",
    "while(deposit<30000):\n",
    "    count+=1\n",
    "    value:int=pyip.inputInt(f'請輸入第{count}月份的存款:')\n",
    "    print(value)\n",
    "    deposit+=value\n",
    "print(f\"恭喜!已經存夠了，存了{count}個月份,共存了{deposit}元\")    "
   ]
  },
  {
   "cell_type": "code",
   "execution_count": 3,
   "metadata": {},
   "outputs": [
    {
     "name": "stdout",
     "output_type": "stream",
     "text": [
      "請輸入第1月份的存款:10000\n",
      "請輸入第2月份的存款:10000\n",
      "請輸入第3月份的存款:10000\n",
      "恭喜!已經存夠了，存了3個月份,共存了30000元\n"
     ]
    }
   ],
   "source": [
    "#while,做不知道執行的次數\n",
    "#小明想要存錢買一輛機車,機車每輛30000元，他將每月存的錢輸入，當存款足夠買機車時，就顯示提示訊息告知。\n",
    "#使用break跳出迴圈\n",
    "import pyinputplus as pyip\n",
    "\n",
    "deposit:int=0\n",
    "count:int=0\n",
    "while(True):\n",
    "    count+=1\n",
    "    value:int=pyip.inputInt(f'請輸入第{count}月份的存款:')\n",
    "    print(value)\n",
    "    deposit+=value\n",
    "    if deposit>=30000:\n",
    "        break\n",
    "print(f\"恭喜!已經存夠了，存了{count}個月份,共存了{deposit}元\")    "
   ]
  },
  {
   "cell_type": "code",
   "execution_count": 3,
   "metadata": {},
   "outputs": [
    {
     "name": "stdout",
     "output_type": "stream",
     "text": [
      "請輸入整數\n",
      "10正確,是整數,求出10的因數\n",
      "10的因數有1\n",
      "10的因數有2\n",
      "10的因數有5\n",
      "10的因數有10\n"
     ]
    }
   ],
   "source": [
    "#求因數\n",
    "import pyinputplus as pyip\n",
    "number:int=pyip.inputInt(f'請輸入整數\\n')\n",
    "print(f'{number}正確,是整數,求出{number}的因數')\n",
    "divisor:int=0\n",
    "while divisor<=number:\n",
    "    divisor+=1\n",
    "    if(number%divisor==0):\n",
    "        print(f'{number}的因數有{divisor}')\n",
    "    if(number==divisor):\n",
    "        break    \n"
   ]
  }
 ],
 "metadata": {
  "kernelspec": {
   "display_name": "Python 3",
   "language": "python",
   "name": "python3"
  },
  "language_info": {
   "codemirror_mode": {
    "name": "ipython",
    "version": 3
   },
   "file_extension": ".py",
   "mimetype": "text/x-python",
   "name": "python",
   "nbconvert_exporter": "python",
   "pygments_lexer": "ipython3",
   "version": "3.10.13"
  }
 },
 "nbformat": 4,
 "nbformat_minor": 2
}
