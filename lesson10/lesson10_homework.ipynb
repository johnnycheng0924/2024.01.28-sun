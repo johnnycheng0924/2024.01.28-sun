{
 "cells": [
  {
   "cell_type": "code",
   "execution_count": 8,
   "metadata": {},
   "outputs": [
    {
     "name": "stdout",
     "output_type": "stream",
     "text": [
      "劉林中你好\n",
      "你的BMI為:26.12\n",
      "你的體重過重\n"
     ]
    }
   ],
   "source": [
    "#BMI(姓名)亂數\n",
    "import pyinputplus as pyip\n",
    "import random\n",
    "def getSuggestion(BMI:float)->str:\n",
    "    print(f'你的BMI為:{BMI:.2f}')\n",
    "    if(BMI<18.5):\n",
    "        message='你的體重過輕'\n",
    "    elif(BMI>18.5 and BMI<24):\n",
    "        message='你的體重正常'\n",
    "    elif(BMI>24 and BMI<27):\n",
    "        message='你的體重過重'\n",
    "    elif(BMI>27 and BMI<30):\n",
    "        message='你的體重為輕度肥胖'\n",
    "    elif(BMI>30 and BMI<35):\n",
    "        message='你的體重為中度肥胖'\n",
    "    elif(BMI>35):\n",
    "        message='你的體重為過度肥胖'\n",
    "    return message      \n",
    "\n",
    "with open('names.txt',encoding='utf-8') as file:\n",
    "    names:str=file.read()\n",
    "    name_list:list[str]=names.split(sep='\\n')\n",
    "    XXX=random.choice(name_list)\n",
    "    print(f'{XXX}你好')\n",
    "try:\n",
    "    height=eval(input(f'XXX,你好,請輸入身高(公分,120-250)'))\n",
    "    weight=eval(input(f'XXX,你好,請輸入體重(公斤,30-250)'))\n",
    "    if (height >= 120 and height<=250) and (weight >=30 and weight <=250) :\n",
    "        BMI= weight/(height/100)**2\n",
    "        print(getSuggestion(BMI))\n",
    "    else:\n",
    "        print(\"身高或體重超出範圍\")\n",
    "except:\n",
    "    print(\"輸入格式有錯誤\")                    \n"
   ]
  },
  {
   "cell_type": "code",
   "execution_count": 1,
   "metadata": {},
   "outputs": [
    {
     "name": "stdout",
     "output_type": "stream",
     "text": [
      "李美洋你好\n",
      "你的BMI為:27.76\n",
      "你的體重輕度肥胖\n",
      "<built-in function print>\n"
     ]
    }
   ],
   "source": [
    "#BMI(姓名)亂數\n",
    "import pyinputplus as pyip\n",
    "import random\n",
    "def getSuggestion(BMI:float)->str:\n",
    "    print(f'你的BMI為:{BMI:.2f}')\n",
    "    if(BMI<18.5):\n",
    "        print('你的體重過輕')\n",
    "    elif(BMI>18.5 and BMI<24):\n",
    "        print('你的體重正常')\n",
    "    elif(BMI>24 and BMI<27):\n",
    "        print('你的體重過重')\n",
    "    elif(BMI>27 and BMI<30):\n",
    "        print('你的體重輕度肥胖')\n",
    "    elif(BMI>30 and BMI<35):\n",
    "        print('你的體重中度肥胖')\n",
    "    elif(BMI>35):\n",
    "        print('你的體重重度肥胖')\n",
    "    return print      \n",
    "\n",
    "with open('names.txt',encoding='utf-8') as file:\n",
    "    names:str=file.read()\n",
    "    name_list:list[str]=names.split(sep='\\n')\n",
    "    XXX=random.choice(name_list)\n",
    "    print(f'{XXX}你好')\n",
    "try:\n",
    "    height=eval(input(f'XXX,你好,請輸入身高(公分,120-250)'))\n",
    "    weight=eval(input(f'XXX,你好,請輸入體重(公斤,30-250)'))\n",
    "    if (height >= 120 and height<=250) and (weight >=30 and weight <=250) :\n",
    "        BMI= weight/(height/100)**2\n",
    "        print(getSuggestion(BMI))\n",
    "    else:\n",
    "        print(\"身高或體重超出範圍\")\n",
    "except:\n",
    "    print(\"輸入格式有錯誤\")                    "
   ]
  }
 ],
 "metadata": {
  "kernelspec": {
   "display_name": "Python 3",
   "language": "python",
   "name": "python3"
  },
  "language_info": {
   "codemirror_mode": {
    "name": "ipython",
    "version": 3
   },
   "file_extension": ".py",
   "mimetype": "text/x-python",
   "name": "python",
   "nbconvert_exporter": "python",
   "pygments_lexer": "ipython3",
   "version": "3.10.13"
  }
 },
 "nbformat": 4,
 "nbformat_minor": 2
}
