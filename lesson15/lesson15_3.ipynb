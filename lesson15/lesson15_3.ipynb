{
 "cells": [
  {
   "cell_type": "code",
   "execution_count": 1,
   "metadata": {},
   "outputs": [
    {
     "data": {
      "text/plain": [
       "98"
      ]
     },
     "execution_count": 1,
     "metadata": {},
     "output_type": "execute_result"
    }
   ],
   "source": [
    "import random\n",
    "random.randint(50,100)"
   ]
  },
  {
   "cell_type": "code",
   "execution_count": 2,
   "metadata": {},
   "outputs": [
    {
     "data": {
      "text/plain": [
       "array([[ 72,  72,  53,  64,  79],\n",
       "       [ 59,  91,  50,  59,  82],\n",
       "       [ 81,  78,  89,  73,  87],\n",
       "       [ 69,  80,  60,  82,  50],\n",
       "       [ 59,  88,  79,  72,  59],\n",
       "       [ 54,  63,  90,  56,  59],\n",
       "       [ 55,  80,  68,  68,  92],\n",
       "       [ 67,  55,  70,  53,  59],\n",
       "       [ 86,  59,  99,  83,  94],\n",
       "       [ 50,  55,  50,  94,  88],\n",
       "       [ 58,  97,  92,  80,  64],\n",
       "       [ 52,  67,  57,  59,  69],\n",
       "       [ 83,  65,  81,  54,  55],\n",
       "       [ 75,  62,  85,  69,  60],\n",
       "       [ 52,  80,  84,  64,  83],\n",
       "       [ 56,  89,  78,  56,  73],\n",
       "       [ 92,  60,  54,  57,  78],\n",
       "       [ 83,  66,  91,  74,  73],\n",
       "       [ 80,  95,  99,  57,  50],\n",
       "       [ 54,  94,  94,  74,  94],\n",
       "       [ 89,  63,  73,  67,  71],\n",
       "       [ 87,  85,  89,  79,  61],\n",
       "       [ 78,  50,  93,  78,  60],\n",
       "       [ 69,  93,  80,  72,  72],\n",
       "       [ 54, 100,  55, 100,  90],\n",
       "       [ 67,  93,  69,  68,  67],\n",
       "       [ 88,  59,  53,  75,  75],\n",
       "       [ 88,  87,  68,  83,  79],\n",
       "       [ 63,  54,  54,  96,  65],\n",
       "       [ 80,  80,  65,  96,  57],\n",
       "       [ 84,  61,  64,  84,  73],\n",
       "       [ 74,  60,  99,  90,  84],\n",
       "       [ 70,  92,  54,  67,  82],\n",
       "       [ 51,  79,  58,  95,  83],\n",
       "       [ 98,  98,  88,  90,  96],\n",
       "       [ 59,  50,  84,  60, 100],\n",
       "       [ 76,  72,  56,  55,  90],\n",
       "       [ 50,  99,  93,  77,  99],\n",
       "       [ 59,  65,  92,  94,  76],\n",
       "       [ 73, 100,  54,  62,  67],\n",
       "       [ 56,  79,  99,  85,  85],\n",
       "       [ 87,  80,  63,  95,  88],\n",
       "       [ 53,  73,  92,  51,  62],\n",
       "       [ 65, 100,  69,  72,  69],\n",
       "       [ 82,  94,  63,  81,  54],\n",
       "       [ 91,  91,  95,  63,  78],\n",
       "       [ 90,  82,  52,  79,  90],\n",
       "       [ 95,  61,  90,  66,  57],\n",
       "       [ 58,  96,  60,  53,  68],\n",
       "       [ 57,  66,  73,  58,  94]])"
      ]
     },
     "execution_count": 2,
     "metadata": {},
     "output_type": "execute_result"
    }
   ],
   "source": [
    "import numpy as np\n",
    "scores=np.random.randint(50,101,size=(50,5))\n",
    "scores"
   ]
  },
  {
   "cell_type": "code",
   "execution_count": 3,
   "metadata": {},
   "outputs": [
    {
     "data": {
      "text/plain": [
       "array([72, 72, 53, 64, 79])"
      ]
     },
     "execution_count": 3,
     "metadata": {},
     "output_type": "execute_result"
    }
   ],
   "source": [
    "scores[0]"
   ]
  },
  {
   "cell_type": "code",
   "execution_count": 4,
   "metadata": {},
   "outputs": [
    {
     "data": {
      "text/plain": [
       "array([[72, 72, 53, 64, 79],\n",
       "       [59, 91, 50, 59, 82],\n",
       "       [81, 78, 89, 73, 87]])"
      ]
     },
     "execution_count": 4,
     "metadata": {},
     "output_type": "execute_result"
    }
   ],
   "source": [
    "scores[0:3]"
   ]
  },
  {
   "cell_type": "code",
   "execution_count": 5,
   "metadata": {},
   "outputs": [
    {
     "data": {
      "text/plain": [
       "array([72, 59, 81])"
      ]
     },
     "execution_count": 5,
     "metadata": {},
     "output_type": "execute_result"
    }
   ],
   "source": [
    "scores[0:3,0]"
   ]
  }
 ],
 "metadata": {
  "kernelspec": {
   "display_name": "Python 3",
   "language": "python",
   "name": "python3"
  },
  "language_info": {
   "codemirror_mode": {
    "name": "ipython",
    "version": 3
   },
   "file_extension": ".py",
   "mimetype": "text/x-python",
   "name": "python",
   "nbconvert_exporter": "python",
   "pygments_lexer": "ipython3",
   "version": "3.10.13"
  }
 },
 "nbformat": 4,
 "nbformat_minor": 2
}
