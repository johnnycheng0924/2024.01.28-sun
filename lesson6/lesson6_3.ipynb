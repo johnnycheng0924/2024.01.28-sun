{
 "cells": [
  {
   "cell_type": "code",
   "execution_count": 1,
   "metadata": {},
   "outputs": [
    {
     "name": "stdout",
     "output_type": "stream",
     "text": [
      "在120-250之間\n"
     ]
    }
   ],
   "source": [
    "height=int(input(\"請輸入身高(公分,120-250):\"))\n",
    "#巢狀判斷列\n",
    "if height>=120:\n",
    "    if height<=250:\n",
    "        print(\"在120-250之間\")\n",
    "    else:\n",
    "        print(\"大於250,不在範圍內\")\n",
    "else:\n",
    "    print(\"小於120,不在範圍內\") "
   ]
  },
  {
   "cell_type": "code",
   "execution_count": 6,
   "metadata": {},
   "outputs": [
    {
     "name": "stdout",
     "output_type": "stream",
     "text": [
      "請輸入身高(公分,120-250):210\n",
      "在120-250之間\n"
     ]
    }
   ],
   "source": [
    "import pyinputplus as pyip\n",
    "height=pyip.inputInt(\"請輸入身高(公分,120-250):\")\n",
    "print(height)\n",
    "if height>=120 and height<=250:\n",
    "    print(\"在120-250之間\")\n",
    "else:\n",
    "    print(\"不在範圍內\")    "
   ]
  },
  {
   "cell_type": "code",
   "execution_count": 5,
   "metadata": {},
   "outputs": [
    {
     "name": "stdout",
     "output_type": "stream",
     "text": [
      "請輸入身高(公分,120-250):260\n",
      "不在範圍內\n"
     ]
    }
   ],
   "source": [
    "import pyinputplus as pyip\n",
    "height=pyip.inputInt(\"請輸入身高(公分,120-250):\")\n",
    "print(height)\n",
    "if height<120 or height>250:\n",
    "    print(\"不在範圍內\")\n",
    "else:\n",
    "    print(\"在120-250之間\")    "
   ]
  },
  {
   "cell_type": "code",
   "execution_count": 8,
   "metadata": {},
   "outputs": [
    {
     "name": "stdout",
     "output_type": "stream",
     "text": [
      "請輸入身高(公分,120-250):270\n",
      "不在範圍內\n"
     ]
    }
   ],
   "source": [
    "import pyinputplus as pyip\n",
    "height=pyip.inputInt(\"請輸入身高(公分,120-250):\")\n",
    "print(height)\n",
    "if not(height<120 or height>250):\n",
    "    print(\"在120-250之間\")\n",
    "else:\n",
    "    print(\"不在範圍內\")\n"
   ]
  },
  {
   "cell_type": "code",
   "execution_count": 2,
   "metadata": {},
   "outputs": [
    {
     "name": "stdout",
     "output_type": "stream",
     "text": [
      "請輸入身高(公分,120-250):173\n",
      "請輸入體重(公斤,30-250):80\n",
      "你的BMI是26.73\n",
      "你的體重過重\n"
     ]
    }
   ],
   "source": [
    "#BMI\n",
    "import pyinputplus as pyip\n",
    "height=pyip.inputInt(\"請輸入身高(公分,120-250):\")\n",
    "print(height)\n",
    "weight=pyip.inputInt(\"請輸入體重(公斤,30-250):\")\n",
    "print(weight)\n",
    "BMI=weight/((height/100)**2)\n",
    "print(f\"你的BMI是{BMI:.2f}\")\n",
    "if(BMI<18.5):\n",
    "    print(\"你的體重過輕\")\n",
    "elif(BMI>18.5 and BMI<24):\n",
    "    print(\"你的體重正常\")\n",
    "elif(BMI>24 and BMI<27):\n",
    "    print(\"你的體重過重\")\n",
    "elif(BMI>27 and BMI<30):\n",
    "    print(\"你的體重輕度肥胖\")\n",
    "elif(BMI>30 and BMI<35):\n",
    "    print(\"你的體重中度肥胖\")\n",
    "elif(BMI>35):\n",
    "    print(\"你的體重重度肥胖\")\n",
    "                        \n",
    "    \n",
    "\n"
   ]
  }
 ],
 "metadata": {
  "kernelspec": {
   "display_name": "Python 3",
   "language": "python",
   "name": "python3"
  },
  "language_info": {
   "codemirror_mode": {
    "name": "ipython",
    "version": 3
   },
   "file_extension": ".py",
   "mimetype": "text/x-python",
   "name": "python",
   "nbconvert_exporter": "python",
   "pygments_lexer": "ipython3",
   "version": "3.10.13"
  }
 },
 "nbformat": 4,
 "nbformat_minor": 2
}
