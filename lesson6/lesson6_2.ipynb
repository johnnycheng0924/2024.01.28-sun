{
 "cells": [
  {
   "cell_type": "code",
   "execution_count": null,
   "metadata": {},
   "outputs": [],
   "source": [
    "try:\n",
    "    scores:float = eval(input(\"請輸入學生分數(最高300分):\"))\n",
    "    if scores <= 300:\n",
    "        is_add:str = input(\"學生是否符合加分條件?(y,n):\")\n",
    "        if is_add == \"y\":\n",
    "            scores *= 1.05\n",
    "            if scores > 300:\n",
    "                scores = 300\n",
    "\n",
    "        print(f\"學生分數為{scores:.0f}\")\n",
    "    else:\n",
    "        print(\"學生分數不可以大於300\")\n",
    "except:\n",
    "    print(\"輸入格式有錯誤\")\n",
    "\n",
    "    \n",
    "\n",
    "print(\"程式結束\")"
   ]
  },
  {
   "cell_type": "code",
   "execution_count": null,
   "metadata": {},
   "outputs": [],
   "source": [
    "import pyinputplus as pyip\n",
    "\n",
    "scores:float = pyip.inputInt(\"請輸入學生分數(最高300分):\",min=0,max=300)\n",
    "print(scores)\n",
    "is_add:str = pyip.inputMenu([\"是\",\"否\"],\n",
    "               prompt=\"請問是否符合加分條件(請選擇1或2)\\n\",\n",
    "               numbered=True\n",
    "               )\n",
    "if is_add == \"是\":\n",
    "    scores *= 1.05\n",
    "    if scores > 300:\n",
    "        scores = 300\n",
    "print(f\"學生分數為{scores:.0f}\")"
   ]
  },
  {
   "cell_type": "code",
   "execution_count": null,
   "metadata": {},
   "outputs": [],
   "source": [
    "#BMI try expect\n",
    "try:\n",
    "    height=int(input(\"請輸入身高(公分,120-250)\"))\n",
    "    print(height)\n",
    "    if height>=120 and height<=250:\n",
    "        print(\"在120-250之間\")\n",
    "    else:\n",
    "        print(\"不在範圍內\")\n",
    "    weight=int(input(\"請輸入體重(公斤,30-250)\"))\n",
    "    print(weight)\n",
    "    if weight>=30 and weight<=250:\n",
    "        print(\"在120-250之間\")\n",
    "    else:\n",
    "        print(\"不在範圍內\")\n",
    "    BMI=weight/((height/100)**2)\n",
    "    print(f\"你的BMI是{BMI:.2f}\")\n",
    "    if(BMI<18.5):\n",
    "        print(\"你的體重過輕\")\n",
    "    elif(BMI>18.5 and BMI<24):\n",
    "        print(\"你的體重正常\")\n",
    "    elif(BMI>24 and BMI<27):\n",
    "        print(\"你的體重過重\")\n",
    "    elif(BMI>27 and BMI<30):\n",
    "        print(\"你的體重輕度肥胖\")\n",
    "    elif(BMI>30 and BMI<35):\n",
    "        print(\"你的體重中度肥胖\")\n",
    "    elif(BMI>35):\n",
    "        print(\"你的體重重度肥胖\")\n",
    "except:\n",
    "    print(\"輸出錯誤訊息\")"
   ]
  }
 ],
 "metadata": {
  "kernelspec": {
   "display_name": "Python 3",
   "language": "python",
   "name": "python3"
  },
  "language_info": {
   "codemirror_mode": {
    "name": "ipython",
    "version": 3
   },
   "file_extension": ".py",
   "mimetype": "text/x-python",
   "name": "python",
   "nbconvert_exporter": "python",
   "pygments_lexer": "ipython3",
   "version": "3.10.13"
  }
 },
 "nbformat": 4,
 "nbformat_minor": 2
}
