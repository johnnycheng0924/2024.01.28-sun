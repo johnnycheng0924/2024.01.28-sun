{
 "cells": [
  {
   "cell_type": "code",
   "execution_count": null,
   "metadata": {},
   "outputs": [],
   "source": [
    "#輸出50個人的身高,體重,BMI\n",
    "import pyinputplus as pyip\n",
    "import random\n",
    "def getSuggestion(BMI:float)->str:\n",
    "    print(f'你的BMI為:{BMI:.2f}')\n",
    "    if(BMI<18.5):\n",
    "        print('你的體重過輕')\n",
    "    elif(BMI>18.5 and BMI<24):\n",
    "        print('你的體重正常')\n",
    "    elif(BMI>24 and BMI<27):\n",
    "        print('你的體重過重')\n",
    "    elif(BMI>27 and BMI<30):\n",
    "        print('你的體重輕度肥胖')\n",
    "    elif(BMI>30 and BMI<35):\n",
    "        print('你的體重中度肥胖')\n",
    "    elif(BMI>35):\n",
    "        print('你的體重重度肥胖')\n",
    "    return print      "
   ]
  }
 ],
 "metadata": {
  "language_info": {
   "name": "python"
  }
 },
 "nbformat": 4,
 "nbformat_minor": 2
}
