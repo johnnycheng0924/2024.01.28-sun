{
 "cells": [
  {
   "cell_type": "code",
   "execution_count": 3,
   "metadata": {},
   "outputs": [],
   "source": [
    "with open('names.txt',encoding='utf-8')as file:\n",
    "    names_str:str=file.read()\n",
    "names:list[str]=names_str.split(sep=\"\\n\")    "
   ]
  },
  {
   "cell_type": "code",
   "execution_count": 5,
   "metadata": {},
   "outputs": [
    {
     "data": {
      "text/plain": [
       "299"
      ]
     },
     "execution_count": 5,
     "metadata": {},
     "output_type": "execute_result"
    }
   ],
   "source": [
    "len(names)"
   ]
  },
  {
   "cell_type": "code",
   "execution_count": 6,
   "metadata": {},
   "outputs": [
    {
     "data": {
      "text/plain": [
       "['黃淑芬',\n",
       " '臧怡君',\n",
       " '劉耿琦',\n",
       " '李立偉',\n",
       " '張牧聿',\n",
       " '謝南慧',\n",
       " '黃政甫',\n",
       " '蕭淑華',\n",
       " '張凡成',\n",
       " '胡姿婷',\n",
       " '馬彥文',\n",
       " '謝水儒',\n",
       " '陳信念',\n",
       " '王孝純',\n",
       " '林世城',\n",
       " '沈心利',\n",
       " '鄭孟芳',\n",
       " '楊火帆',\n",
       " '昌嘉洋',\n",
       " '黃偉剛',\n",
       " '王德城',\n",
       " '黃善迪',\n",
       " '沈心利',\n",
       " '游淑惠',\n",
       " '方筠紹',\n",
       " '胡姿婷',\n",
       " '謝哲維',\n",
       " '張慧君',\n",
       " '蕭淑華',\n",
       " '王怡珊',\n",
       " '陳向愛',\n",
       " '蔡至剛',\n",
       " '錢佩豪',\n",
       " '吳晴洋',\n",
       " '林佳慧',\n",
       " '李美洋',\n",
       " '朱士弘',\n",
       " '周琬婷',\n",
       " '陳慧君',\n",
       " '劉萬季',\n",
       " '黃志福',\n",
       " '高俊男',\n",
       " '張明惟',\n",
       " '陳冠霞',\n",
       " '張俊傑',\n",
       " '姜琬婷',\n",
       " '林佳慧',\n",
       " '王人仰',\n",
       " '黃偉剛',\n",
       " '黃奎紹']"
      ]
     },
     "execution_count": 6,
     "metadata": {},
     "output_type": "execute_result"
    }
   ],
   "source": [
    "import random\n",
    "num=50\n",
    "randomNames:list[str]=random.choices(names,k=num)\n",
    "randomNames"
   ]
  },
  {
   "cell_type": "code",
   "execution_count": 16,
   "metadata": {},
   "outputs": [
    {
     "data": {
      "text/plain": [
       "{'name': '鄭雲中', 'height': 169, 'weight': 63}"
      ]
     },
     "execution_count": 16,
     "metadata": {},
     "output_type": "execute_result"
    }
   ],
   "source": [
    "from pydantic import BaseModel\n",
    "from random import randint\n",
    "class Person(BaseModel):\n",
    "    name:str\n",
    "    height:int\n",
    "    weight:int\n",
    "p1=Person(name='鄭雲中',height=randint(150,195),weight=randint(50,110))\n",
    "p1.model_dump()    "
   ]
  },
  {
   "cell_type": "code",
   "execution_count": 22,
   "metadata": {},
   "outputs": [
    {
     "data": {
      "text/plain": [
       "Person(name='鄭雲中', height=170, weight=86)"
      ]
     },
     "execution_count": 22,
     "metadata": {},
     "output_type": "execute_result"
    }
   ],
   "source": [
    "from pydantic import BaseModel\n",
    "from random import randint\n",
    "class Person(BaseModel):\n",
    "    name:str\n",
    "    height:int\n",
    "    weight:int\n",
    "\n",
    "p1=Person(name='鄭雲中',height=randint(150,195),weight=randint(50,110))\n",
    "p1.model_dump()\n",
    "\n",
    "p2=Person.model_validate({'name':'鄭雲中','height':randint(150,195),'weight':randint(50,110)})\n",
    "p2"
   ]
  },
  {
   "cell_type": "code",
   "execution_count": 23,
   "metadata": {},
   "outputs": [
    {
     "data": {
      "text/plain": [
       "[Person(name='黃淑芬', height=186, weight=139),\n",
       " Person(name='臧怡君', height=160, weight=79),\n",
       " Person(name='劉耿琦', height=166, weight=52),\n",
       " Person(name='李立偉', height=194, weight=128),\n",
       " Person(name='張牧聿', height=160, weight=149),\n",
       " Person(name='謝南慧', height=194, weight=51),\n",
       " Person(name='黃政甫', height=159, weight=133),\n",
       " Person(name='蕭淑華', height=164, weight=125),\n",
       " Person(name='張凡成', height=187, weight=74),\n",
       " Person(name='胡姿婷', height=166, weight=135),\n",
       " Person(name='馬彥文', height=165, weight=108),\n",
       " Person(name='謝水儒', height=162, weight=109),\n",
       " Person(name='陳信念', height=178, weight=60),\n",
       " Person(name='王孝純', height=188, weight=85),\n",
       " Person(name='林世城', height=152, weight=54),\n",
       " Person(name='沈心利', height=156, weight=122),\n",
       " Person(name='鄭孟芳', height=191, weight=83),\n",
       " Person(name='楊火帆', height=172, weight=93),\n",
       " Person(name='昌嘉洋', height=180, weight=110),\n",
       " Person(name='黃偉剛', height=173, weight=139),\n",
       " Person(name='王德城', height=167, weight=91),\n",
       " Person(name='黃善迪', height=175, weight=95),\n",
       " Person(name='沈心利', height=164, weight=91),\n",
       " Person(name='游淑惠', height=166, weight=88),\n",
       " Person(name='方筠紹', height=192, weight=140),\n",
       " Person(name='胡姿婷', height=188, weight=125),\n",
       " Person(name='謝哲維', height=167, weight=137),\n",
       " Person(name='張慧君', height=154, weight=133),\n",
       " Person(name='蕭淑華', height=186, weight=145),\n",
       " Person(name='王怡珊', height=186, weight=146),\n",
       " Person(name='陳向愛', height=173, weight=139),\n",
       " Person(name='蔡至剛', height=173, weight=67),\n",
       " Person(name='錢佩豪', height=184, weight=118),\n",
       " Person(name='吳晴洋', height=154, weight=83),\n",
       " Person(name='林佳慧', height=187, weight=73),\n",
       " Person(name='李美洋', height=155, weight=119),\n",
       " Person(name='朱士弘', height=192, weight=96),\n",
       " Person(name='周琬婷', height=176, weight=58),\n",
       " Person(name='陳慧君', height=165, weight=126),\n",
       " Person(name='劉萬季', height=173, weight=68),\n",
       " Person(name='黃志福', height=193, weight=117),\n",
       " Person(name='高俊男', height=151, weight=129),\n",
       " Person(name='張明惟', height=173, weight=138),\n",
       " Person(name='陳冠霞', height=194, weight=74),\n",
       " Person(name='張俊傑', height=180, weight=90),\n",
       " Person(name='姜琬婷', height=161, weight=98),\n",
       " Person(name='林佳慧', height=178, weight=105),\n",
       " Person(name='王人仰', height=170, weight=65),\n",
       " Person(name='黃偉剛', height=171, weight=54),\n",
       " Person(name='黃奎紹', height=173, weight=120)]"
      ]
     },
     "execution_count": 23,
     "metadata": {},
     "output_type": "execute_result"
    }
   ],
   "source": [
    "persons:list[Person]=[]\n",
    "for name in randomNames:\n",
    "    person=Person(name=name,\n",
    "                  height=randint(150,195),\n",
    "                  weight=randint(50,150))\n",
    "    persons.append(person)\n",
    "persons    "
   ]
  },
  {
   "cell_type": "code",
   "execution_count": null,
   "metadata": {},
   "outputs": [],
   "source": []
  }
 ],
 "metadata": {
  "kernelspec": {
   "display_name": "Python 3",
   "language": "python",
   "name": "python3"
  },
  "language_info": {
   "codemirror_mode": {
    "name": "ipython",
    "version": 3
   },
   "file_extension": ".py",
   "mimetype": "text/x-python",
   "name": "python",
   "nbconvert_exporter": "python",
   "pygments_lexer": "ipython3",
   "version": "3.10.13"
  }
 },
 "nbformat": 4,
 "nbformat_minor": 2
}
