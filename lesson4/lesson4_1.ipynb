{
 "cells": [
  {
   "cell_type": "code",
   "execution_count": 7,
   "metadata": {},
   "outputs": [
    {
     "name": "stdout",
     "output_type": "stream",
     "text": [
      "斜邊:50,對邊:25\n",
      "角度是30.00\n"
     ]
    }
   ],
   "source": [
    "import math \n",
    "side1 = eval(input(\"請輸入直角三角形的斜邊\"))\n",
    "side2 = eval(input(\"請輸入直角三角形的對邊\"))\n",
    "\n",
    "radian=math.asin(side2/side1)\n",
    "degree=math.degrees(radian)\n",
    "math.degrees(radian)\n",
    "\n",
    "print(f'斜邊:{side1},對邊:{side2}')\n",
    "print(f'角度是{degree:.2f}')"
   ]
  },
  {
   "cell_type": "code",
   "execution_count": 8,
   "metadata": {},
   "outputs": [
    {
     "name": "stdout",
     "output_type": "stream",
     "text": [
      "1,3,5,7,9,11的平均是6\n",
      "1,3,5,7,9,11的中間值是6.0\n",
      "1,3,5,7,9,11的標準差是3.7416573867739413\n"
     ]
    }
   ],
   "source": [
    "import statistics\n",
    "#[1,3,5,7,9,11]\n",
    "#平均\n",
    "#中間數\n",
    "#標準差\n",
    "\n",
    "mean_value=statistics.mean([1,3,5,7,9,11])\n",
    "print(f'1,3,5,7,9,11的平均是{mean_value}')\n",
    "\n",
    "median_value=statistics.median([1,3,5,7,9,11])\n",
    "print(f'1,3,5,7,9,11的中間值是{median_value}')\n",
    "\n",
    "std_value=statistics.stdev([1,3,5,7,9,11])\n",
    "print(f'1,3,5,7,9,11的標準差是{std_value}')\n",
    "\n"
   ]
  },
  {
   "cell_type": "code",
   "execution_count": 1,
   "metadata": {},
   "outputs": [
    {
     "data": {
      "text/plain": [
       "10"
      ]
     },
     "execution_count": 1,
     "metadata": {},
     "output_type": "execute_result"
    }
   ],
   "source": [
    "n=5\n",
    "n=n+5\n",
    "n"
   ]
  },
  {
   "cell_type": "code",
   "execution_count": 2,
   "metadata": {},
   "outputs": [
    {
     "data": {
      "text/plain": [
       "5"
      ]
     },
     "execution_count": 2,
     "metadata": {},
     "output_type": "execute_result"
    }
   ],
   "source": [
    "x=5\n",
    "x+5\n",
    "x"
   ]
  }
 ],
 "metadata": {
  "kernelspec": {
   "display_name": "Python 3",
   "language": "python",
   "name": "python3"
  },
  "language_info": {
   "codemirror_mode": {
    "name": "ipython",
    "version": 3
   },
   "file_extension": ".py",
   "mimetype": "text/x-python",
   "name": "python",
   "nbconvert_exporter": "python",
   "pygments_lexer": "ipython3",
   "version": "3.10.13"
  }
 },
 "nbformat": 4,
 "nbformat_minor": 2
}
