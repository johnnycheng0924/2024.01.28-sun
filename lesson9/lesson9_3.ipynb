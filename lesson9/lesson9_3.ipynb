{
 "cells": [
  {
   "cell_type": "code",
   "execution_count": 4,
   "metadata": {},
   "outputs": [
    {
     "name": "stdout",
     "output_type": "stream",
     "text": [
      "[['筆記電腦', '商用筆電', '電競筆電'], ['APPLE', 'ASUS', 'HTC'], ['冰箱', '洗衣機', '電視']]\n"
     ]
    }
   ],
   "source": [
    "from pprint import pprint\n",
    "nb=['筆記電腦', '商用筆電','電競筆電']\n",
    "mobile=['APPLE','ASUS','HTC']\n",
    "home=['冰箱','洗衣機','電視']\n",
    "all3c=[nb,mobile,home]\n",
    "pprint(all3c)"
   ]
  },
  {
   "cell_type": "code",
   "execution_count": 8,
   "metadata": {},
   "outputs": [
    {
     "name": "stdout",
     "output_type": "stream",
     "text": [
      "[['筆記電腦', '商用筆電', '電競筆電'], ['APPLE', 'ASUS', 'HTC'], ['冰箱', '洗衣機', '電視']]\n"
     ]
    }
   ],
   "source": [
    "from pprint import pprint\n",
    "nb:list[str]=['筆記電腦', '商用筆電','電競筆電']#type hint\n",
    "mobile:list[str]=['APPLE','ASUS','HTC']\n",
    "home:list[str]=['冰箱','洗衣機','電視']\n",
    "all3c=[nb,mobile,home]\n",
    "pprint(all3c)"
   ]
  },
  {
   "cell_type": "code",
   "execution_count": 11,
   "metadata": {},
   "outputs": [
    {
     "data": {
      "text/plain": [
       "[['筆記電腦', '商用筆電', '電競筆電'], ['APPLE', 'ASUS', 'HTC'], ['冰箱', '洗衣機', '電視']]"
      ]
     },
     "execution_count": 11,
     "metadata": {},
     "output_type": "execute_result"
    }
   ],
   "source": [
    "#使用list的實體方法,append()\n",
    "all3c: list[list[str]] = []\n",
    "all3c.append(nb)\n",
    "all3c.append(mobile)\n",
    "all3c.append(home)\n",
    "all3c"
   ]
  },
  {
   "cell_type": "code",
   "execution_count": 13,
   "metadata": {},
   "outputs": [
    {
     "data": {
      "text/plain": [
       "4"
      ]
     },
     "execution_count": 13,
     "metadata": {},
     "output_type": "execute_result"
    }
   ],
   "source": [
    "input()\n",
    "import math\n",
    "math.ceil(3.256)"
   ]
  },
  {
   "cell_type": "code",
   "execution_count": 14,
   "metadata": {},
   "outputs": [
    {
     "data": {
      "text/plain": [
       "[56, 77, 82, 57, 100]"
      ]
     },
     "execution_count": 14,
     "metadata": {},
     "output_type": "execute_result"
    }
   ],
   "source": [
    "from random import randint\n",
    "stu1:list[int]=[randint(50,100),randint(50,100),randint(50,100),randint(50,100),randint(50,100)]\n",
    "stu1"
   ]
  },
  {
   "cell_type": "code",
   "execution_count": 15,
   "metadata": {},
   "outputs": [
    {
     "data": {
      "text/plain": [
       "[89, 58, 57, 82, 58]"
      ]
     },
     "execution_count": 15,
     "metadata": {},
     "output_type": "execute_result"
    }
   ],
   "source": [
    "stu2:list[int]=[]\n",
    "for i in range(5):\n",
    "    stu2.append(randint(50,100))\n",
    "stu2    "
   ]
  },
  {
   "cell_type": "code",
   "execution_count": 20,
   "metadata": {},
   "outputs": [
    {
     "data": {
      "text/plain": [
       "[62, 77, 63, 73, 89]"
      ]
     },
     "execution_count": 20,
     "metadata": {},
     "output_type": "execute_result"
    }
   ],
   "source": [
    "#list comprehension -> 快速建立list\n",
    "#[值 for...in...]\n",
    "stu3:list[int]=[randint(50,100)for _ in range(5)]\n",
    "stu3"
   ]
  },
  {
   "cell_type": "code",
   "execution_count": 21,
   "metadata": {},
   "outputs": [
    {
     "name": "stdout",
     "output_type": "stream",
     "text": [
      "[[66, 74, 77, 77, 67],\n",
      " [97, 57, 77, 72, 57],\n",
      " [50, 90, 74, 94, 81],\n",
      " [94, 59, 100, 96, 84],\n",
      " [65, 55, 75, 55, 50],\n",
      " [71, 72, 100, 72, 72],\n",
      " [79, 68, 83, 60, 58],\n",
      " [68, 88, 79, 69, 74],\n",
      " [88, 57, 71, 60, 62],\n",
      " [81, 71, 81, 86, 88],\n",
      " [77, 53, 81, 53, 59],\n",
      " [92, 85, 67, 86, 98],\n",
      " [84, 81, 71, 55, 54],\n",
      " [92, 78, 59, 96, 74],\n",
      " [86, 87, 51, 53, 58],\n",
      " [68, 85, 55, 57, 77],\n",
      " [66, 72, 95, 91, 59],\n",
      " [96, 58, 86, 69, 83],\n",
      " [60, 53, 53, 60, 99],\n",
      " [70, 67, 69, 57, 89],\n",
      " [59, 85, 94, 79, 74],\n",
      " [76, 57, 57, 82, 60],\n",
      " [80, 85, 94, 100, 87],\n",
      " [68, 85, 96, 88, 76],\n",
      " [58, 81, 66, 57, 98],\n",
      " [83, 72, 62, 85, 67],\n",
      " [87, 96, 69, 62, 97],\n",
      " [68, 99, 95, 69, 63],\n",
      " [92, 65, 86, 86, 66],\n",
      " [55, 86, 52, 66, 69],\n",
      " [92, 90, 80, 87, 90],\n",
      " [75, 91, 89, 92, 74],\n",
      " [83, 75, 85, 90, 69],\n",
      " [85, 65, 84, 83, 53],\n",
      " [78, 98, 82, 51, 71],\n",
      " [52, 83, 59, 79, 63],\n",
      " [64, 84, 93, 69, 51],\n",
      " [96, 82, 95, 94, 60],\n",
      " [68, 60, 89, 85, 85],\n",
      " [94, 55, 82, 94, 96],\n",
      " [70, 54, 56, 85, 87],\n",
      " [94, 73, 99, 88, 94],\n",
      " [84, 67, 57, 89, 61],\n",
      " [96, 83, 83, 78, 80],\n",
      " [86, 69, 65, 58, 83],\n",
      " [70, 74, 54, 62, 55],\n",
      " [75, 97, 84, 86, 89],\n",
      " [98, 91, 60, 87, 72],\n",
      " [70, 84, 75, 76, 71],\n",
      " [75, 55, 50, 73, 95]]\n"
     ]
    }
   ],
   "source": [
    "from pprint import pprint\n",
    "students:list[list[int]]=[]\n",
    "for _ in range(50):\n",
    "    stu:list[int]=[randint(50,100)for _ in range(5)]\n",
    "    students.append(stu)\n",
    "pprint(students)    "
   ]
  }
 ],
 "metadata": {
  "kernelspec": {
   "display_name": "Python 3",
   "language": "python",
   "name": "python3"
  },
  "language_info": {
   "codemirror_mode": {
    "name": "ipython",
    "version": 3
   },
   "file_extension": ".py",
   "mimetype": "text/x-python",
   "name": "python",
   "nbconvert_exporter": "python",
   "pygments_lexer": "ipython3",
   "version": "3.10.13"
  }
 },
 "nbformat": 4,
 "nbformat_minor": 2
}
